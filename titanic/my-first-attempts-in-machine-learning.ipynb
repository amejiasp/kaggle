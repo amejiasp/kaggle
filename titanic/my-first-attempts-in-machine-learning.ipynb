{
 "cells": [
  {
   "cell_type": "code",
   "execution_count": 40,
   "metadata": {
    "_cell_guid": "c0bac124-9bc0-4830-8ec4-6fc876653419",
    "_uuid": "0ec52b43-706f-416c-af4d-a2f0b1268321",
    "execution": {
     "iopub.execute_input": "2020-12-13T11:49:20.349509Z",
     "iopub.status.busy": "2020-12-13T11:49:20.348719Z",
     "iopub.status.idle": "2020-12-13T11:49:21.127922Z",
     "shell.execute_reply": "2020-12-13T11:49:21.127096Z"
    },
    "papermill": {
     "duration": 0.815061,
     "end_time": "2020-12-13T11:49:21.128049",
     "exception": false,
     "start_time": "2020-12-13T11:49:20.312988",
     "status": "completed"
    },
    "tags": []
   },
   "outputs": [],
   "source": [
    "import numpy as np # linear algebra\n",
    "import pandas as pd # data processing, CSV file I/O (e.g. pd.read_csv)\n",
    "import matplotlib.pyplot as plt\n",
    "import seaborn as sns\n",
    "\n"
   ]
  },
  {
   "cell_type": "markdown",
   "metadata": {
    "papermill": {
     "duration": 0.028473,
     "end_time": "2020-12-13T11:49:21.185938",
     "exception": false,
     "start_time": "2020-12-13T11:49:21.157465",
     "status": "completed"
    },
    "tags": []
   },
   "source": [
    "## Read data\n",
    "\n",
    "First, let's read both data files and check some rows"
   ]
  },
  {
   "cell_type": "code",
   "execution_count": 41,
   "metadata": {
    "execution": {
     "iopub.execute_input": "2020-12-13T11:49:21.253143Z",
     "iopub.status.busy": "2020-12-13T11:49:21.252409Z",
     "iopub.status.idle": "2020-12-13T11:49:21.331970Z",
     "shell.execute_reply": "2020-12-13T11:49:21.332631Z"
    },
    "papermill": {
     "duration": 0.117901,
     "end_time": "2020-12-13T11:49:21.332832",
     "exception": false,
     "start_time": "2020-12-13T11:49:21.214931",
     "status": "completed"
    },
    "tags": []
   },
   "outputs": [
    {
     "data": {
      "text/html": [
       "<div>\n",
       "<style scoped>\n",
       "    .dataframe tbody tr th:only-of-type {\n",
       "        vertical-align: middle;\n",
       "    }\n",
       "\n",
       "    .dataframe tbody tr th {\n",
       "        vertical-align: top;\n",
       "    }\n",
       "\n",
       "    .dataframe thead th {\n",
       "        text-align: right;\n",
       "    }\n",
       "</style>\n",
       "<table border=\"1\" class=\"dataframe\">\n",
       "  <thead>\n",
       "    <tr style=\"text-align: right;\">\n",
       "      <th></th>\n",
       "      <th>PassengerId</th>\n",
       "      <th>Survived</th>\n",
       "      <th>Pclass</th>\n",
       "      <th>Name</th>\n",
       "      <th>Sex</th>\n",
       "      <th>Age</th>\n",
       "      <th>SibSp</th>\n",
       "      <th>Parch</th>\n",
       "      <th>Ticket</th>\n",
       "      <th>Fare</th>\n",
       "      <th>Cabin</th>\n",
       "      <th>Embarked</th>\n",
       "    </tr>\n",
       "  </thead>\n",
       "  <tbody>\n",
       "    <tr>\n",
       "      <th>0</th>\n",
       "      <td>892</td>\n",
       "      <td>0</td>\n",
       "      <td>3</td>\n",
       "      <td>Kelly, Mr. James</td>\n",
       "      <td>male</td>\n",
       "      <td>34.5</td>\n",
       "      <td>0</td>\n",
       "      <td>0</td>\n",
       "      <td>330911</td>\n",
       "      <td>7.8292</td>\n",
       "      <td>NaN</td>\n",
       "      <td>Q</td>\n",
       "    </tr>\n",
       "    <tr>\n",
       "      <th>1</th>\n",
       "      <td>893</td>\n",
       "      <td>1</td>\n",
       "      <td>3</td>\n",
       "      <td>Wilkes, Mrs. James (Ellen Needs)</td>\n",
       "      <td>female</td>\n",
       "      <td>47.0</td>\n",
       "      <td>1</td>\n",
       "      <td>0</td>\n",
       "      <td>363272</td>\n",
       "      <td>7</td>\n",
       "      <td>NaN</td>\n",
       "      <td>S</td>\n",
       "    </tr>\n",
       "    <tr>\n",
       "      <th>2</th>\n",
       "      <td>894</td>\n",
       "      <td>0</td>\n",
       "      <td>2</td>\n",
       "      <td>Myles, Mr. Thomas Francis</td>\n",
       "      <td>male</td>\n",
       "      <td>62.0</td>\n",
       "      <td>0</td>\n",
       "      <td>0</td>\n",
       "      <td>240276</td>\n",
       "      <td>9.6875</td>\n",
       "      <td>NaN</td>\n",
       "      <td>Q</td>\n",
       "    </tr>\n",
       "    <tr>\n",
       "      <th>3</th>\n",
       "      <td>895</td>\n",
       "      <td>0</td>\n",
       "      <td>3</td>\n",
       "      <td>Wirz, Mr. Albert</td>\n",
       "      <td>male</td>\n",
       "      <td>27.0</td>\n",
       "      <td>0</td>\n",
       "      <td>0</td>\n",
       "      <td>315154</td>\n",
       "      <td>8.6625</td>\n",
       "      <td>NaN</td>\n",
       "      <td>S</td>\n",
       "    </tr>\n",
       "    <tr>\n",
       "      <th>4</th>\n",
       "      <td>896</td>\n",
       "      <td>1</td>\n",
       "      <td>3</td>\n",
       "      <td>Hirvonen, Mrs. Alexander (Helga E Lindqvist)</td>\n",
       "      <td>female</td>\n",
       "      <td>22.0</td>\n",
       "      <td>1</td>\n",
       "      <td>1</td>\n",
       "      <td>3101298</td>\n",
       "      <td>12.2875</td>\n",
       "      <td>NaN</td>\n",
       "      <td>S</td>\n",
       "    </tr>\n",
       "  </tbody>\n",
       "</table>\n",
       "</div>"
      ],
      "text/plain": [
       "   PassengerId  Survived  Pclass  \\\n",
       "0          892         0       3   \n",
       "1          893         1       3   \n",
       "2          894         0       2   \n",
       "3          895         0       3   \n",
       "4          896         1       3   \n",
       "\n",
       "                                           Name     Sex   Age  SibSp  Parch  \\\n",
       "0                              Kelly, Mr. James    male  34.5      0      0   \n",
       "1              Wilkes, Mrs. James (Ellen Needs)  female  47.0      1      0   \n",
       "2                     Myles, Mr. Thomas Francis    male  62.0      0      0   \n",
       "3                              Wirz, Mr. Albert    male  27.0      0      0   \n",
       "4  Hirvonen, Mrs. Alexander (Helga E Lindqvist)  female  22.0      1      1   \n",
       "\n",
       "    Ticket     Fare Cabin Embarked  \n",
       "0   330911   7.8292   NaN        Q  \n",
       "1   363272        7   NaN        S  \n",
       "2   240276   9.6875   NaN        Q  \n",
       "3   315154   8.6625   NaN        S  \n",
       "4  3101298  12.2875   NaN        S  "
      ]
     },
     "execution_count": 41,
     "metadata": {},
     "output_type": "execute_result"
    }
   ],
   "source": [
    "titanic_data = pd.read_csv(\"./input/titanic/train.csv\")\n",
    "test_data = pd.read_csv(\"./input/titanic/test - test.csv\")\n",
    "test_data.head()"
   ]
  },
  {
   "cell_type": "markdown",
   "metadata": {
    "papermill": {
     "duration": 0.029454,
     "end_time": "2020-12-13T11:49:21.392584",
     "exception": false,
     "start_time": "2020-12-13T11:49:21.363130",
     "status": "completed"
    },
    "tags": []
   },
   "source": [
    "Get some information about dataset"
   ]
  },
  {
   "cell_type": "code",
   "execution_count": 42,
   "metadata": {
    "_cell_guid": "bf3891a4-687e-411b-b0c7-9ccf737b8dd4",
    "_uuid": "f2ec04e7-2f7b-423b-9303-2557b1338471",
    "execution": {
     "iopub.execute_input": "2020-12-13T11:49:21.469474Z",
     "iopub.status.busy": "2020-12-13T11:49:21.468522Z",
     "iopub.status.idle": "2020-12-13T11:49:21.473330Z",
     "shell.execute_reply": "2020-12-13T11:49:21.472298Z"
    },
    "papermill": {
     "duration": 0.051173,
     "end_time": "2020-12-13T11:49:21.473492",
     "exception": false,
     "start_time": "2020-12-13T11:49:21.422319",
     "status": "completed"
    },
    "tags": []
   },
   "outputs": [
    {
     "name": "stdout",
     "output_type": "stream",
     "text": [
      "<class 'pandas.core.frame.DataFrame'>\n",
      "RangeIndex: 891 entries, 0 to 890\n",
      "Data columns (total 12 columns):\n",
      " #   Column       Non-Null Count  Dtype  \n",
      "---  ------       --------------  -----  \n",
      " 0   PassengerId  891 non-null    int64  \n",
      " 1   Survived     891 non-null    int64  \n",
      " 2   Pclass       891 non-null    int64  \n",
      " 3   Name         891 non-null    object \n",
      " 4   Sex          891 non-null    object \n",
      " 5   Age          714 non-null    float64\n",
      " 6   SibSp        891 non-null    int64  \n",
      " 7   Parch        891 non-null    int64  \n",
      " 8   Ticket       891 non-null    object \n",
      " 9   Fare         891 non-null    float64\n",
      " 10  Cabin        204 non-null    object \n",
      " 11  Embarked     889 non-null    object \n",
      "dtypes: float64(2), int64(5), object(5)\n",
      "memory usage: 83.7+ KB\n"
     ]
    }
   ],
   "source": [
    "titanic_data.info()"
   ]
  },
  {
   "cell_type": "markdown",
   "metadata": {
    "papermill": {
     "duration": 0.030121,
     "end_time": "2020-12-13T11:49:21.535449",
     "exception": false,
     "start_time": "2020-12-13T11:49:21.505328",
     "status": "completed"
    },
    "tags": []
   },
   "source": [
    "Describe some properties of numerical features"
   ]
  },
  {
   "cell_type": "code",
   "execution_count": 43,
   "metadata": {
    "execution": {
     "iopub.execute_input": "2020-12-13T11:49:21.610163Z",
     "iopub.status.busy": "2020-12-13T11:49:21.609476Z",
     "iopub.status.idle": "2020-12-13T11:49:21.641664Z",
     "shell.execute_reply": "2020-12-13T11:49:21.642251Z"
    },
    "papermill": {
     "duration": 0.075676,
     "end_time": "2020-12-13T11:49:21.642396",
     "exception": false,
     "start_time": "2020-12-13T11:49:21.566720",
     "status": "completed"
    },
    "tags": []
   },
   "outputs": [
    {
     "data": {
      "text/html": [
       "<div>\n",
       "<style scoped>\n",
       "    .dataframe tbody tr th:only-of-type {\n",
       "        vertical-align: middle;\n",
       "    }\n",
       "\n",
       "    .dataframe tbody tr th {\n",
       "        vertical-align: top;\n",
       "    }\n",
       "\n",
       "    .dataframe thead th {\n",
       "        text-align: right;\n",
       "    }\n",
       "</style>\n",
       "<table border=\"1\" class=\"dataframe\">\n",
       "  <thead>\n",
       "    <tr style=\"text-align: right;\">\n",
       "      <th></th>\n",
       "      <th>PassengerId</th>\n",
       "      <th>Survived</th>\n",
       "      <th>Pclass</th>\n",
       "      <th>Age</th>\n",
       "      <th>SibSp</th>\n",
       "      <th>Parch</th>\n",
       "      <th>Fare</th>\n",
       "    </tr>\n",
       "  </thead>\n",
       "  <tbody>\n",
       "    <tr>\n",
       "      <th>count</th>\n",
       "      <td>891.000000</td>\n",
       "      <td>891.000000</td>\n",
       "      <td>891.000000</td>\n",
       "      <td>714.000000</td>\n",
       "      <td>891.000000</td>\n",
       "      <td>891.000000</td>\n",
       "      <td>891.000000</td>\n",
       "    </tr>\n",
       "    <tr>\n",
       "      <th>mean</th>\n",
       "      <td>446.000000</td>\n",
       "      <td>0.383838</td>\n",
       "      <td>2.308642</td>\n",
       "      <td>29.699118</td>\n",
       "      <td>0.523008</td>\n",
       "      <td>0.381594</td>\n",
       "      <td>32.204208</td>\n",
       "    </tr>\n",
       "    <tr>\n",
       "      <th>std</th>\n",
       "      <td>257.353842</td>\n",
       "      <td>0.486592</td>\n",
       "      <td>0.836071</td>\n",
       "      <td>14.526497</td>\n",
       "      <td>1.102743</td>\n",
       "      <td>0.806057</td>\n",
       "      <td>49.693429</td>\n",
       "    </tr>\n",
       "    <tr>\n",
       "      <th>min</th>\n",
       "      <td>1.000000</td>\n",
       "      <td>0.000000</td>\n",
       "      <td>1.000000</td>\n",
       "      <td>0.420000</td>\n",
       "      <td>0.000000</td>\n",
       "      <td>0.000000</td>\n",
       "      <td>0.000000</td>\n",
       "    </tr>\n",
       "    <tr>\n",
       "      <th>25%</th>\n",
       "      <td>223.500000</td>\n",
       "      <td>0.000000</td>\n",
       "      <td>2.000000</td>\n",
       "      <td>20.125000</td>\n",
       "      <td>0.000000</td>\n",
       "      <td>0.000000</td>\n",
       "      <td>7.910400</td>\n",
       "    </tr>\n",
       "    <tr>\n",
       "      <th>50%</th>\n",
       "      <td>446.000000</td>\n",
       "      <td>0.000000</td>\n",
       "      <td>3.000000</td>\n",
       "      <td>28.000000</td>\n",
       "      <td>0.000000</td>\n",
       "      <td>0.000000</td>\n",
       "      <td>14.454200</td>\n",
       "    </tr>\n",
       "    <tr>\n",
       "      <th>75%</th>\n",
       "      <td>668.500000</td>\n",
       "      <td>1.000000</td>\n",
       "      <td>3.000000</td>\n",
       "      <td>38.000000</td>\n",
       "      <td>1.000000</td>\n",
       "      <td>0.000000</td>\n",
       "      <td>31.000000</td>\n",
       "    </tr>\n",
       "    <tr>\n",
       "      <th>max</th>\n",
       "      <td>891.000000</td>\n",
       "      <td>1.000000</td>\n",
       "      <td>3.000000</td>\n",
       "      <td>80.000000</td>\n",
       "      <td>8.000000</td>\n",
       "      <td>6.000000</td>\n",
       "      <td>512.329200</td>\n",
       "    </tr>\n",
       "  </tbody>\n",
       "</table>\n",
       "</div>"
      ],
      "text/plain": [
       "       PassengerId    Survived      Pclass         Age       SibSp  \\\n",
       "count   891.000000  891.000000  891.000000  714.000000  891.000000   \n",
       "mean    446.000000    0.383838    2.308642   29.699118    0.523008   \n",
       "std     257.353842    0.486592    0.836071   14.526497    1.102743   \n",
       "min       1.000000    0.000000    1.000000    0.420000    0.000000   \n",
       "25%     223.500000    0.000000    2.000000   20.125000    0.000000   \n",
       "50%     446.000000    0.000000    3.000000   28.000000    0.000000   \n",
       "75%     668.500000    1.000000    3.000000   38.000000    1.000000   \n",
       "max     891.000000    1.000000    3.000000   80.000000    8.000000   \n",
       "\n",
       "            Parch        Fare  \n",
       "count  891.000000  891.000000  \n",
       "mean     0.381594   32.204208  \n",
       "std      0.806057   49.693429  \n",
       "min      0.000000    0.000000  \n",
       "25%      0.000000    7.910400  \n",
       "50%      0.000000   14.454200  \n",
       "75%      0.000000   31.000000  \n",
       "max      6.000000  512.329200  "
      ]
     },
     "execution_count": 43,
     "metadata": {},
     "output_type": "execute_result"
    }
   ],
   "source": [
    "titanic_data.describe()"
   ]
  },
  {
   "cell_type": "markdown",
   "metadata": {
    "papermill": {
     "duration": 0.030847,
     "end_time": "2020-12-13T11:49:21.704378",
     "exception": false,
     "start_time": "2020-12-13T11:49:21.673531",
     "status": "completed"
    },
    "tags": []
   },
   "source": [
    "From the previous data we have:\n",
    "* Missing data 3 columns with missing data (Age,Cabin, Embarked)\n",
    "* Categorical data 5 columns (Name, Sex, Ticket, Cabin, Embarked)\n",
    "* Numerical data 6 columns ([PassengerId], Survived, Pclass, Age, SibSp, Parch, Fare)\n",
    "\n",
    "Determine the type of numerical data\n",
    "* Binary data (Survived)\n",
    "* Continuous data (Fare, Age)\n",
    "* Categorical data encoded (Pclass, SibSp, Parch)"
   ]
  },
  {
   "cell_type": "code",
   "execution_count": 44,
   "metadata": {
    "execution": {
     "iopub.execute_input": "2020-12-13T11:49:21.774269Z",
     "iopub.status.busy": "2020-12-13T11:49:21.773554Z",
     "iopub.status.idle": "2020-12-13T11:49:21.779098Z",
     "shell.execute_reply": "2020-12-13T11:49:21.778530Z"
    },
    "papermill": {
     "duration": 0.043814,
     "end_time": "2020-12-13T11:49:21.779213",
     "exception": false,
     "start_time": "2020-12-13T11:49:21.735399",
     "status": "completed"
    },
    "tags": []
   },
   "outputs": [
    {
     "name": "stdout",
     "output_type": "stream",
     "text": [
      "Survived: [0 1]\n",
      "Pclass: [3 1 2]\n",
      "SibSp: [1 0 3 4 2 5 8]\n",
      "Parch: [0 1 2 5 3 4 6]\n"
     ]
    }
   ],
   "source": [
    "print('Survived:', titanic_data.Survived.unique())\n",
    "print('Pclass:', titanic_data.Pclass.unique())\n",
    "print('SibSp:', titanic_data.SibSp.unique())\n",
    "print('Parch:', titanic_data.Parch.unique())\n"
   ]
  },
  {
   "cell_type": "markdown",
   "metadata": {
    "_cell_guid": "eae3d069-dd95-4454-be96-8d0ffa8055e3",
    "_uuid": "b88499fe-fbe6-4741-b859-97ee4d186ce7",
    "papermill": {
     "duration": 0.031319,
     "end_time": "2020-12-13T11:49:21.842087",
     "exception": false,
     "start_time": "2020-12-13T11:49:21.810768",
     "status": "completed"
    },
    "tags": []
   },
   "source": [
    "## Missing Data\n",
    "\n",
    "From original info, we can see missing data in the columns : Age, Cabid and Embarked"
   ]
  },
  {
   "cell_type": "code",
   "execution_count": 45,
   "metadata": {
    "_cell_guid": "d0a26784-89b1-42fe-82ba-4ffd9372c1d0",
    "_uuid": "5458d887-29e9-45c1-a30e-25b504e8ee93",
    "execution": {
     "iopub.execute_input": "2020-12-13T11:49:21.913330Z",
     "iopub.status.busy": "2020-12-13T11:49:21.912211Z",
     "iopub.status.idle": "2020-12-13T11:49:21.921926Z",
     "shell.execute_reply": "2020-12-13T11:49:21.921062Z"
    },
    "papermill": {
     "duration": 0.048477,
     "end_time": "2020-12-13T11:49:21.922094",
     "exception": false,
     "start_time": "2020-12-13T11:49:21.873617",
     "status": "completed"
    },
    "tags": []
   },
   "outputs": [
    {
     "name": "stdout",
     "output_type": "stream",
     "text": [
      "Null Training data %:\n",
      "\n",
      "PassengerId    0.000000\n",
      "Survived       0.000000\n",
      "Pclass         0.000000\n",
      "Name           0.000000\n",
      "Sex            0.000000\n",
      "Age            0.198653\n",
      "SibSp          0.000000\n",
      "Parch          0.000000\n",
      "Ticket         0.000000\n",
      "Fare           0.000000\n",
      "Cabin          0.771044\n",
      "Embarked       0.002245\n",
      "dtype: float64\n",
      "\n",
      "Null Test data data %:\n",
      "\n",
      "PassengerId    0.000000\n",
      "Survived       0.000000\n",
      "Pclass         0.000000\n",
      "Name           0.000000\n",
      "Sex            0.000000\n",
      "Age            0.205742\n",
      "SibSp          0.000000\n",
      "Parch          0.000000\n",
      "Ticket         0.000000\n",
      "Fare           0.002392\n",
      "Cabin          0.782297\n",
      "Embarked       0.000000\n",
      "dtype: float64\n"
     ]
    }
   ],
   "source": [
    "print('Null Training data %:\\n')\n",
    "\n",
    "print(titanic_data.isnull().mean())\n",
    "\n",
    "print('\\nNull Test data data %:\\n')\n",
    "print(test_data.isnull().mean())\n"
   ]
  },
  {
   "cell_type": "markdown",
   "metadata": {
    "papermill": {
     "duration": 0.031898,
     "end_time": "2020-12-13T11:49:21.987719",
     "exception": false,
     "start_time": "2020-12-13T11:49:21.955821",
     "status": "completed"
    },
    "tags": []
   },
   "source": [
    "We fill missing data on both, training and test data\n",
    "\n",
    "In training data:\n",
    "* Embarked ( 2 values ). We use the mode -most repeated value- to fill missing data\n",
    "* Cabin (77% missing). We do not have data to fill. So we fill data with 'Missing' label\n",
    "* Age (19.8% missing). In this case we use mean for the continuous variable\n",
    "\n",
    "In test data:\n",
    "* Cabin and age, the same approach than in training data\n",
    "* Fare, we use mean"
   ]
  },
  {
   "cell_type": "code",
   "execution_count": 46,
   "metadata": {},
   "outputs": [
    {
     "data": {
      "text/plain": [
       "count    405.000000\n",
       "mean      84.748402\n",
       "std      166.188349\n",
       "min        0.000000\n",
       "25%        7.879200\n",
       "50%       14.500000\n",
       "75%       59.400000\n",
       "max      831.583000\n",
       "Name: Fare, dtype: float64"
      ]
     },
     "execution_count": 46,
     "metadata": {},
     "output_type": "execute_result"
    }
   ],
   "source": [
    "pd.to_numeric(test_data['Fare'],errors='coerce',).describe()"
   ]
  },
  {
   "cell_type": "code",
   "execution_count": 47,
   "metadata": {
    "execution": {
     "iopub.execute_input": "2020-12-13T11:49:22.066464Z",
     "iopub.status.busy": "2020-12-13T11:49:22.065444Z",
     "iopub.status.idle": "2020-12-13T11:49:22.068770Z",
     "shell.execute_reply": "2020-12-13T11:49:22.068044Z"
    },
    "papermill": {
     "duration": 0.048885,
     "end_time": "2020-12-13T11:49:22.068887",
     "exception": false,
     "start_time": "2020-12-13T11:49:22.020002",
     "status": "completed"
    },
    "tags": []
   },
   "outputs": [],
   "source": [
    "\n",
    "test_data['Fare'] = pd.to_numeric(test_data['Fare'],errors='coerce')\n",
    "## fill missing data \n",
    "\n",
    "# embarked, only 2 values not filled. We take the mode as the value to fill na\n",
    "embarked_mode = titanic_data['Embarked'].mode().values[0]\n",
    "titanic_data['Embarked'].fillna(embarked_mode, inplace=True)\n",
    "\n",
    "# deck, too much info without fill. Any fill with a data it is not enough\n",
    "titanic_data['Cabin'].fillna('Missing', inplace=True) \n",
    "\n",
    "# age\n",
    "titanic_data['Age'].fillna(titanic_data['Age'].mean(), inplace=True)\n",
    "\n",
    "# deck, too much info without fill. Any fill with a data it is not enough\n",
    "test_data['Cabin'].fillna('Missing', inplace=True) \n",
    "\n",
    "# age\n",
    "test_data['Age'].fillna(test_data['Age'].mean(), inplace=True)\n",
    "\n",
    "# Fare\n",
    "test_data['Fare'].fillna(test_data['Fare'].mean(), inplace=True)\n",
    "\n",
    "\n"
   ]
  },
  {
   "cell_type": "code",
   "execution_count": 48,
   "metadata": {},
   "outputs": [],
   "source": [
    "buckets = [0, 10, 30, 50, 100] \n",
    "labels = ['1', '2', '3', '4'] \n",
    "titanic_data['Age_range'] = pd.cut(titanic_data['Age'], bins=buckets, labels=labels, include_lowest=True) \n",
    "test_data['Age_range'] = pd.cut(test_data['Age'], bins=buckets, labels=labels, include_lowest=True) \n",
    "\n"
   ]
  },
  {
   "cell_type": "markdown",
   "metadata": {
    "papermill": {
     "duration": 0.032143,
     "end_time": "2020-12-13T11:49:22.134288",
     "exception": false,
     "start_time": "2020-12-13T11:49:22.102145",
     "status": "completed"
    },
    "tags": []
   },
   "source": [
    "## Encode categorical data\n",
    "(Name, Sex, Ticket, Cabin, Embarked)\n",
    "\n",
    "Let's first try to get an idea of the labels in each feature\n"
   ]
  },
  {
   "cell_type": "code",
   "execution_count": 49,
   "metadata": {
    "execution": {
     "iopub.execute_input": "2020-12-13T11:49:22.207853Z",
     "iopub.status.busy": "2020-12-13T11:49:22.207056Z",
     "iopub.status.idle": "2020-12-13T11:49:22.214695Z",
     "shell.execute_reply": "2020-12-13T11:49:22.214085Z"
    },
    "papermill": {
     "duration": 0.048195,
     "end_time": "2020-12-13T11:49:22.214817",
     "exception": false,
     "start_time": "2020-12-13T11:49:22.166622",
     "status": "completed"
    },
    "tags": []
   },
   "outputs": [
    {
     "name": "stdout",
     "output_type": "stream",
     "text": [
      "Sex values: ['male' 'female'] ['male' 'female']\n",
      "Ticket values: 681 363\n",
      "Cabin values: 148 77\n",
      "Embarked values: ['S' 'C' 'Q'] ['Q' 'S' 'C']\n"
     ]
    }
   ],
   "source": [
    "print('Sex values:',titanic_data.Sex.unique(), test_data.Sex.unique())\n",
    "print('Ticket values:',titanic_data.Ticket.unique().size,test_data.Ticket.unique().size)\n",
    "print('Cabin values:',titanic_data.Cabin.unique().size,test_data.Cabin.unique().size)\n",
    "print('Embarked values:',titanic_data.Embarked.unique(), test_data.Embarked.unique())"
   ]
  },
  {
   "cell_type": "markdown",
   "metadata": {
    "papermill": {
     "duration": 0.033363,
     "end_time": "2020-12-13T11:49:22.281411",
     "exception": false,
     "start_time": "2020-12-13T11:49:22.248048",
     "status": "completed"
    },
    "tags": []
   },
   "source": [
    "Let's use onehot encodig for these characteristics having a fix value set. I also want to use the same approach for Pclass attribute. Althought it is already defined as an integer, it is a numeric representation for a class with fixed valueds. We will consider as fixed Sex & Embarked.\n",
    "For the rest, we will use label encoder"
   ]
  },
  {
   "cell_type": "code",
   "execution_count": 50,
   "metadata": {
    "execution": {
     "iopub.execute_input": "2020-12-13T11:49:22.374029Z",
     "iopub.status.busy": "2020-12-13T11:49:22.367437Z",
     "iopub.status.idle": "2020-12-13T11:49:22.485986Z",
     "shell.execute_reply": "2020-12-13T11:49:22.485332Z"
    },
    "papermill": {
     "duration": 0.171339,
     "end_time": "2020-12-13T11:49:22.486107",
     "exception": false,
     "start_time": "2020-12-13T11:49:22.314768",
     "status": "completed"
    },
    "tags": []
   },
   "outputs": [],
   "source": [
    "\n",
    "\n",
    "temp = pd.get_dummies(titanic_data[['Sex']]) \n",
    "titanic_data = titanic_data.join(temp)\n",
    "\n",
    "temp = pd.get_dummies(test_data[['Sex']]) \n",
    "test_data = test_data.join(temp)\n",
    "\n",
    "temp = pd.get_dummies(titanic_data[['Pclass']].astype(str)) \n",
    "temp.head()\n",
    "titanic_data = titanic_data.join(temp)\n",
    "\n",
    "temp = pd.get_dummies(test_data[['Pclass']].astype(str)) \n",
    "test_data = test_data.join(temp)\n",
    "\n",
    "temp = pd.get_dummies(titanic_data[['Embarked']]) \n",
    "titanic_data= titanic_data.join(temp)\n",
    "\n",
    "temp = pd.get_dummies(test_data[['Embarked']]) \n",
    "test_data= test_data.join(temp)\n",
    "\n",
    "temp = pd.get_dummies(titanic_data[['Age_range']]) \n",
    "titanic_data= titanic_data.join(temp)\n",
    "\n",
    "temp = pd.get_dummies(test_data[['Age_range']]) \n",
    "test_data= test_data.join(temp)\n",
    "\n",
    "\n",
    "## Label encoder\n",
    "from sklearn.preprocessing import LabelEncoder \n",
    "\n",
    "le = LabelEncoder() \n",
    "le.fit(titanic_data['Ticket']) \n",
    "titanic_data['Ticket_encoded'] = le.transform(titanic_data['Ticket']) \n",
    "\n",
    "le = LabelEncoder() \n",
    "le.fit(test_data['Ticket']) \n",
    "test_data['Ticket_encoded'] = le.transform(test_data['Ticket'])\n",
    "\n",
    "\n",
    "le = LabelEncoder() \n",
    "le.fit(titanic_data['Cabin']) \n",
    "titanic_data['Cabin_encoded'] = le.transform(titanic_data['Cabin']) \n",
    "\n",
    "le = LabelEncoder() \n",
    "le.fit(test_data['Cabin']) \n",
    "test_data['Cabin_encoded'] = le.transform(test_data['Cabin'])\n",
    "\n",
    "\n",
    "\n"
   ]
  },
  {
   "cell_type": "code",
   "execution_count": 51,
   "metadata": {
    "execution": {
     "iopub.execute_input": "2020-12-13T11:49:22.559737Z",
     "iopub.status.busy": "2020-12-13T11:49:22.558665Z",
     "iopub.status.idle": "2020-12-13T11:49:22.563550Z",
     "shell.execute_reply": "2020-12-13T11:49:22.562870Z"
    },
    "papermill": {
     "duration": 0.043542,
     "end_time": "2020-12-13T11:49:22.563668",
     "exception": false,
     "start_time": "2020-12-13T11:49:22.520126",
     "status": "completed"
    },
    "tags": []
   },
   "outputs": [
    {
     "data": {
      "text/plain": [
       "Index(['PassengerId', 'Survived', 'Pclass', 'Name', 'Sex', 'Age', 'SibSp',\n",
       "       'Parch', 'Ticket', 'Fare', 'Cabin', 'Embarked', 'Age_range',\n",
       "       'Sex_female', 'Sex_male', 'Pclass_1', 'Pclass_2', 'Pclass_3',\n",
       "       'Embarked_C', 'Embarked_Q', 'Embarked_S', 'Age_range_1', 'Age_range_2',\n",
       "       'Age_range_3', 'Age_range_4', 'Ticket_encoded', 'Cabin_encoded'],\n",
       "      dtype='object')"
      ]
     },
     "execution_count": 51,
     "metadata": {},
     "output_type": "execute_result"
    }
   ],
   "source": [
    "titanic_data.columns"
   ]
  },
  {
   "cell_type": "code",
   "execution_count": 52,
   "metadata": {
    "execution": {
     "iopub.execute_input": "2020-12-13T11:49:22.653472Z",
     "iopub.status.busy": "2020-12-13T11:49:22.636673Z",
     "iopub.status.idle": "2020-12-13T11:49:22.658599Z",
     "shell.execute_reply": "2020-12-13T11:49:22.657947Z"
    },
    "papermill": {
     "duration": 0.061043,
     "end_time": "2020-12-13T11:49:22.658715",
     "exception": false,
     "start_time": "2020-12-13T11:49:22.597672",
     "status": "completed"
    },
    "tags": []
   },
   "outputs": [
    {
     "data": {
      "text/html": [
       "<div>\n",
       "<style scoped>\n",
       "    .dataframe tbody tr th:only-of-type {\n",
       "        vertical-align: middle;\n",
       "    }\n",
       "\n",
       "    .dataframe tbody tr th {\n",
       "        vertical-align: top;\n",
       "    }\n",
       "\n",
       "    .dataframe thead th {\n",
       "        text-align: right;\n",
       "    }\n",
       "</style>\n",
       "<table border=\"1\" class=\"dataframe\">\n",
       "  <thead>\n",
       "    <tr style=\"text-align: right;\">\n",
       "      <th></th>\n",
       "      <th>PassengerId</th>\n",
       "      <th>Survived</th>\n",
       "      <th>Pclass</th>\n",
       "      <th>Name</th>\n",
       "      <th>Sex</th>\n",
       "      <th>Age</th>\n",
       "      <th>SibSp</th>\n",
       "      <th>Parch</th>\n",
       "      <th>Ticket</th>\n",
       "      <th>Fare</th>\n",
       "      <th>...</th>\n",
       "      <th>Pclass_3</th>\n",
       "      <th>Embarked_C</th>\n",
       "      <th>Embarked_Q</th>\n",
       "      <th>Embarked_S</th>\n",
       "      <th>Age_range_1</th>\n",
       "      <th>Age_range_2</th>\n",
       "      <th>Age_range_3</th>\n",
       "      <th>Age_range_4</th>\n",
       "      <th>Ticket_encoded</th>\n",
       "      <th>Cabin_encoded</th>\n",
       "    </tr>\n",
       "  </thead>\n",
       "  <tbody>\n",
       "    <tr>\n",
       "      <th>0</th>\n",
       "      <td>1</td>\n",
       "      <td>0</td>\n",
       "      <td>3</td>\n",
       "      <td>Braund, Mr. Owen Harris</td>\n",
       "      <td>male</td>\n",
       "      <td>22.0</td>\n",
       "      <td>1</td>\n",
       "      <td>0</td>\n",
       "      <td>A/5 21171</td>\n",
       "      <td>7.2500</td>\n",
       "      <td>...</td>\n",
       "      <td>1</td>\n",
       "      <td>0</td>\n",
       "      <td>0</td>\n",
       "      <td>1</td>\n",
       "      <td>0</td>\n",
       "      <td>1</td>\n",
       "      <td>0</td>\n",
       "      <td>0</td>\n",
       "      <td>523</td>\n",
       "      <td>146</td>\n",
       "    </tr>\n",
       "    <tr>\n",
       "      <th>1</th>\n",
       "      <td>2</td>\n",
       "      <td>1</td>\n",
       "      <td>1</td>\n",
       "      <td>Cumings, Mrs. John Bradley (Florence Briggs Th...</td>\n",
       "      <td>female</td>\n",
       "      <td>38.0</td>\n",
       "      <td>1</td>\n",
       "      <td>0</td>\n",
       "      <td>PC 17599</td>\n",
       "      <td>71.2833</td>\n",
       "      <td>...</td>\n",
       "      <td>0</td>\n",
       "      <td>1</td>\n",
       "      <td>0</td>\n",
       "      <td>0</td>\n",
       "      <td>0</td>\n",
       "      <td>0</td>\n",
       "      <td>1</td>\n",
       "      <td>0</td>\n",
       "      <td>596</td>\n",
       "      <td>81</td>\n",
       "    </tr>\n",
       "    <tr>\n",
       "      <th>2</th>\n",
       "      <td>3</td>\n",
       "      <td>1</td>\n",
       "      <td>3</td>\n",
       "      <td>Heikkinen, Miss. Laina</td>\n",
       "      <td>female</td>\n",
       "      <td>26.0</td>\n",
       "      <td>0</td>\n",
       "      <td>0</td>\n",
       "      <td>STON/O2. 3101282</td>\n",
       "      <td>7.9250</td>\n",
       "      <td>...</td>\n",
       "      <td>1</td>\n",
       "      <td>0</td>\n",
       "      <td>0</td>\n",
       "      <td>1</td>\n",
       "      <td>0</td>\n",
       "      <td>1</td>\n",
       "      <td>0</td>\n",
       "      <td>0</td>\n",
       "      <td>669</td>\n",
       "      <td>146</td>\n",
       "    </tr>\n",
       "    <tr>\n",
       "      <th>3</th>\n",
       "      <td>4</td>\n",
       "      <td>1</td>\n",
       "      <td>1</td>\n",
       "      <td>Futrelle, Mrs. Jacques Heath (Lily May Peel)</td>\n",
       "      <td>female</td>\n",
       "      <td>35.0</td>\n",
       "      <td>1</td>\n",
       "      <td>0</td>\n",
       "      <td>113803</td>\n",
       "      <td>53.1000</td>\n",
       "      <td>...</td>\n",
       "      <td>0</td>\n",
       "      <td>0</td>\n",
       "      <td>0</td>\n",
       "      <td>1</td>\n",
       "      <td>0</td>\n",
       "      <td>0</td>\n",
       "      <td>1</td>\n",
       "      <td>0</td>\n",
       "      <td>49</td>\n",
       "      <td>55</td>\n",
       "    </tr>\n",
       "    <tr>\n",
       "      <th>4</th>\n",
       "      <td>5</td>\n",
       "      <td>0</td>\n",
       "      <td>3</td>\n",
       "      <td>Allen, Mr. William Henry</td>\n",
       "      <td>male</td>\n",
       "      <td>35.0</td>\n",
       "      <td>0</td>\n",
       "      <td>0</td>\n",
       "      <td>373450</td>\n",
       "      <td>8.0500</td>\n",
       "      <td>...</td>\n",
       "      <td>1</td>\n",
       "      <td>0</td>\n",
       "      <td>0</td>\n",
       "      <td>1</td>\n",
       "      <td>0</td>\n",
       "      <td>0</td>\n",
       "      <td>1</td>\n",
       "      <td>0</td>\n",
       "      <td>472</td>\n",
       "      <td>146</td>\n",
       "    </tr>\n",
       "  </tbody>\n",
       "</table>\n",
       "<p>5 rows × 27 columns</p>\n",
       "</div>"
      ],
      "text/plain": [
       "   PassengerId  Survived  Pclass  \\\n",
       "0            1         0       3   \n",
       "1            2         1       1   \n",
       "2            3         1       3   \n",
       "3            4         1       1   \n",
       "4            5         0       3   \n",
       "\n",
       "                                                Name     Sex   Age  SibSp  \\\n",
       "0                            Braund, Mr. Owen Harris    male  22.0      1   \n",
       "1  Cumings, Mrs. John Bradley (Florence Briggs Th...  female  38.0      1   \n",
       "2                             Heikkinen, Miss. Laina  female  26.0      0   \n",
       "3       Futrelle, Mrs. Jacques Heath (Lily May Peel)  female  35.0      1   \n",
       "4                           Allen, Mr. William Henry    male  35.0      0   \n",
       "\n",
       "   Parch            Ticket     Fare  ... Pclass_3 Embarked_C Embarked_Q  \\\n",
       "0      0         A/5 21171   7.2500  ...        1          0          0   \n",
       "1      0          PC 17599  71.2833  ...        0          1          0   \n",
       "2      0  STON/O2. 3101282   7.9250  ...        1          0          0   \n",
       "3      0            113803  53.1000  ...        0          0          0   \n",
       "4      0            373450   8.0500  ...        1          0          0   \n",
       "\n",
       "   Embarked_S  Age_range_1  Age_range_2  Age_range_3  Age_range_4  \\\n",
       "0           1            0            1            0            0   \n",
       "1           0            0            0            1            0   \n",
       "2           1            0            1            0            0   \n",
       "3           1            0            0            1            0   \n",
       "4           1            0            0            1            0   \n",
       "\n",
       "   Ticket_encoded  Cabin_encoded  \n",
       "0             523            146  \n",
       "1             596             81  \n",
       "2             669            146  \n",
       "3              49             55  \n",
       "4             472            146  \n",
       "\n",
       "[5 rows x 27 columns]"
      ]
     },
     "execution_count": 52,
     "metadata": {},
     "output_type": "execute_result"
    }
   ],
   "source": [
    "titanic_data.head()"
   ]
  },
  {
   "cell_type": "markdown",
   "metadata": {
    "papermill": {
     "duration": 0.03454,
     "end_time": "2020-12-13T11:49:22.728000",
     "exception": false,
     "start_time": "2020-12-13T11:49:22.693460",
     "status": "completed"
    },
    "tags": []
   },
   "source": [
    "## Feature scaling\n",
    "\n",
    "For Fare & Age we will use a different approach using L2 normalization. L2 normalization will change the distribution of ower data. First let's plot histograms of both properties\n",
    "\n"
   ]
  },
  {
   "cell_type": "code",
   "execution_count": 53,
   "metadata": {
    "execution": {
     "iopub.execute_input": "2020-12-13T11:49:22.803313Z",
     "iopub.status.busy": "2020-12-13T11:49:22.802545Z",
     "iopub.status.idle": "2020-12-13T11:49:23.065534Z",
     "shell.execute_reply": "2020-12-13T11:49:23.064832Z"
    },
    "papermill": {
     "duration": 0.302648,
     "end_time": "2020-12-13T11:49:23.065652",
     "exception": false,
     "start_time": "2020-12-13T11:49:22.763004",
     "status": "completed"
    },
    "tags": []
   },
   "outputs": [
    {
     "name": "stderr",
     "output_type": "stream",
     "text": [
      "/Library/Frameworks/Python.framework/Versions/3.8/lib/python3.8/site-packages/seaborn/distributions.py:2551: FutureWarning: `distplot` is a deprecated function and will be removed in a future version. Please adapt your code to use either `displot` (a figure-level function with similar flexibility) or `histplot` (an axes-level function for histograms).\n",
      "  warnings.warn(msg, FutureWarning)\n"
     ]
    },
    {
     "data": {
      "text/plain": [
       "<AxesSubplot:xlabel='Age', ylabel='Density'>"
      ]
     },
     "execution_count": 53,
     "metadata": {},
     "output_type": "execute_result"
    },
    {
     "data": {
      "image/png": "[encoded data removed]",
      "text/plain": [
       "<Figure size 432x288 with 1 Axes>"
      ]
     },
     "metadata": {
      "needs_background": "light"
     },
     "output_type": "display_data"
    }
   ],
   "source": [
    "sns.distplot(titanic_data['Age'])"
   ]
  },
  {
   "cell_type": "code",
   "execution_count": 54,
   "metadata": {
    "execution": {
     "iopub.execute_input": "2020-12-13T11:49:23.151628Z",
     "iopub.status.busy": "2020-12-13T11:49:23.149110Z",
     "iopub.status.idle": "2020-12-13T11:49:23.411576Z",
     "shell.execute_reply": "2020-12-13T11:49:23.410954Z"
    },
    "papermill": {
     "duration": 0.309395,
     "end_time": "2020-12-13T11:49:23.411699",
     "exception": false,
     "start_time": "2020-12-13T11:49:23.102304",
     "status": "completed"
    },
    "tags": []
   },
   "outputs": [
    {
     "name": "stderr",
     "output_type": "stream",
     "text": [
      "/Library/Frameworks/Python.framework/Versions/3.8/lib/python3.8/site-packages/seaborn/distributions.py:2551: FutureWarning: `distplot` is a deprecated function and will be removed in a future version. Please adapt your code to use either `displot` (a figure-level function with similar flexibility) or `histplot` (an axes-level function for histograms).\n",
      "  warnings.warn(msg, FutureWarning)\n"
     ]
    },
    {
     "data": {
      "text/plain": [
       "<AxesSubplot:xlabel='Fare', ylabel='Density'>"
      ]
     },
     "execution_count": 54,
     "metadata": {},
     "output_type": "execute_result"
    },
    {
     "data": {
      "image/png": "[encoded data removed]",
      "text/plain": [
       "<Figure size 432x288 with 1 Axes>"
      ]
     },
     "metadata": {
      "needs_background": "light"
     },
     "output_type": "display_data"
    }
   ],
   "source": [
    "sns.distplot(titanic_data['Fare'])"
   ]
  },
  {
   "cell_type": "code",
   "execution_count": 55,
   "metadata": {
    "execution": {
     "iopub.execute_input": "2020-12-13T11:49:23.498612Z",
     "iopub.status.busy": "2020-12-13T11:49:23.497850Z",
     "iopub.status.idle": "2020-12-13T11:49:23.511539Z",
     "shell.execute_reply": "2020-12-13T11:49:23.510571Z"
    },
    "papermill": {
     "duration": 0.061696,
     "end_time": "2020-12-13T11:49:23.511691",
     "exception": false,
     "start_time": "2020-12-13T11:49:23.449995",
     "status": "completed"
    },
    "tags": []
   },
   "outputs": [
    {
     "name": "stdout",
     "output_type": "stream",
     "text": [
      "(891, 2) (417, 2)\n"
     ]
    }
   ],
   "source": [
    "from sklearn.preprocessing import RobustScaler \n",
    "\n",
    "\n",
    "data_unscaled = titanic_data[['Age','Fare']]\n",
    "\n",
    "data_unscaled = data_unscaled.append(test_data[['Age','Fare']])\n",
    "\n",
    "scaler = RobustScaler() \n",
    "scaler.fit(data_unscaled) \n",
    "data_scaled = scaler.transform(data_unscaled)\n",
    "\n",
    "titanic_data_scaled = data_scaled[:titanic_data.shape[0]]\n",
    "test_data_scaled    = data_scaled[titanic_data.shape[0]+1:]\n",
    "\n",
    "titanic_data_scaled = pd.DataFrame(titanic_data_scaled, columns = data_unscaled.columns) \n",
    "test_data_scaled = pd.DataFrame(test_data_scaled, columns = data_unscaled.columns) \n",
    "\n",
    "\n",
    "print(titanic_data_scaled.shape, test_data_scaled.shape)\n"
   ]
  },
  {
   "cell_type": "markdown",
   "metadata": {
    "papermill": {
     "duration": 0.038236,
     "end_time": "2020-12-13T11:49:23.588945",
     "exception": false,
     "start_time": "2020-12-13T11:49:23.550709",
     "status": "completed"
    },
    "tags": []
   },
   "source": [
    "Let's check data has been normalized"
   ]
  },
  {
   "cell_type": "code",
   "execution_count": 56,
   "metadata": {
    "execution": {
     "iopub.execute_input": "2020-12-13T11:49:23.675754Z",
     "iopub.status.busy": "2020-12-13T11:49:23.674702Z",
     "iopub.status.idle": "2020-12-13T11:49:23.679009Z",
     "shell.execute_reply": "2020-12-13T11:49:23.678401Z"
    },
    "papermill": {
     "duration": 0.051462,
     "end_time": "2020-12-13T11:49:23.679122",
     "exception": false,
     "start_time": "2020-12-13T11:49:23.627660",
     "status": "completed"
    },
    "tags": []
   },
   "outputs": [
    {
     "data": {
      "text/plain": [
       "<bound method DataFrame.info of           Age      Fare\n",
       "0    1.330837 -0.259927\n",
       "1    2.484683 -0.166787\n",
       "2   -0.207624 -0.202310\n",
       "3   -0.592240 -0.076679\n",
       "4   -1.207624 -0.182816\n",
       "..        ...       ...\n",
       "412  0.044113 -0.223538\n",
       "413  0.715452  3.271621\n",
       "414  0.676991 -0.251263\n",
       "415  0.044113 -0.223538\n",
       "416  0.044113  7.246189\n",
       "\n",
       "[417 rows x 2 columns]>"
      ]
     },
     "execution_count": 56,
     "metadata": {},
     "output_type": "execute_result"
    }
   ],
   "source": [
    "test_data_scaled.info"
   ]
  },
  {
   "cell_type": "code",
   "execution_count": 57,
   "metadata": {
    "execution": {
     "iopub.execute_input": "2020-12-13T11:49:23.766022Z",
     "iopub.status.busy": "2020-12-13T11:49:23.763302Z",
     "iopub.status.idle": "2020-12-13T11:49:23.768469Z",
     "shell.execute_reply": "2020-12-13T11:49:23.768987Z"
    },
    "papermill": {
     "duration": 0.051076,
     "end_time": "2020-12-13T11:49:23.769134",
     "exception": false,
     "start_time": "2020-12-13T11:49:23.718058",
     "status": "completed"
    },
    "tags": []
   },
   "outputs": [],
   "source": [
    "titanic_data[['Age_scaled','Fare_scaled']] = titanic_data_scaled[['Age','Fare']]\n",
    "test_data[['Age_scaled','Fare_scaled']] = test_data_scaled[['Age','Fare']]"
   ]
  },
  {
   "cell_type": "markdown",
   "metadata": {
    "papermill": {
     "duration": 0.038622,
     "end_time": "2020-12-13T11:49:23.846675",
     "exception": false,
     "start_time": "2020-12-13T11:49:23.808053",
     "status": "completed"
    },
    "tags": []
   },
   "source": [
    "Let's see how the distribution has change"
   ]
  },
  {
   "cell_type": "code",
   "execution_count": 58,
   "metadata": {
    "execution": {
     "iopub.execute_input": "2020-12-13T11:49:23.938825Z",
     "iopub.status.busy": "2020-12-13T11:49:23.935496Z",
     "iopub.status.idle": "2020-12-13T11:49:24.157379Z",
     "shell.execute_reply": "2020-12-13T11:49:24.158065Z"
    },
    "papermill": {
     "duration": 0.272172,
     "end_time": "2020-12-13T11:49:24.158215",
     "exception": false,
     "start_time": "2020-12-13T11:49:23.886043",
     "status": "completed"
    },
    "tags": []
   },
   "outputs": [
    {
     "name": "stderr",
     "output_type": "stream",
     "text": [
      "/Library/Frameworks/Python.framework/Versions/3.8/lib/python3.8/site-packages/seaborn/distributions.py:2551: FutureWarning: `distplot` is a deprecated function and will be removed in a future version. Please adapt your code to use either `displot` (a figure-level function with similar flexibility) or `histplot` (an axes-level function for histograms).\n",
      "  warnings.warn(msg, FutureWarning)\n"
     ]
    },
    {
     "data": {
      "text/plain": [
       "<AxesSubplot:xlabel='Age_scaled', ylabel='Density'>"
      ]
     },
     "execution_count": 58,
     "metadata": {},
     "output_type": "execute_result"
    },
    {
     "data": {
      "image/png": "[encoded data removed]",
      "text/plain": [
       "<Figure size 432x288 with 1 Axes>"
      ]
     },
     "metadata": {
      "needs_background": "light"
     },
     "output_type": "display_data"
    }
   ],
   "source": [
    "sns.distplot(titanic_data['Age_scaled'])"
   ]
  },
  {
   "cell_type": "code",
   "execution_count": 59,
   "metadata": {
    "execution": {
     "iopub.execute_input": "2020-12-13T11:49:24.251727Z",
     "iopub.status.busy": "2020-12-13T11:49:24.250642Z",
     "iopub.status.idle": "2020-12-13T11:49:24.510707Z",
     "shell.execute_reply": "2020-12-13T11:49:24.511329Z"
    },
    "papermill": {
     "duration": 0.312684,
     "end_time": "2020-12-13T11:49:24.511483",
     "exception": false,
     "start_time": "2020-12-13T11:49:24.198799",
     "status": "completed"
    },
    "tags": []
   },
   "outputs": [
    {
     "name": "stderr",
     "output_type": "stream",
     "text": [
      "/Library/Frameworks/Python.framework/Versions/3.8/lib/python3.8/site-packages/seaborn/distributions.py:2551: FutureWarning: `distplot` is a deprecated function and will be removed in a future version. Please adapt your code to use either `displot` (a figure-level function with similar flexibility) or `histplot` (an axes-level function for histograms).\n",
      "  warnings.warn(msg, FutureWarning)\n"
     ]
    },
    {
     "data": {
      "text/plain": [
       "<AxesSubplot:xlabel='Fare_scaled', ylabel='Density'>"
      ]
     },
     "execution_count": 59,
     "metadata": {},
     "output_type": "execute_result"
    },
    {
     "data": {
      "image/png": "[encoded data removed]",
      "text/plain": [
       "<Figure size 432x288 with 1 Axes>"
      ]
     },
     "metadata": {
      "needs_background": "light"
     },
     "output_type": "display_data"
    }
   ],
   "source": [
    "sns.distplot(titanic_data['Fare_scaled'])"
   ]
  },
  {
   "cell_type": "markdown",
   "metadata": {
    "papermill": {
     "duration": 0.041588,
     "end_time": "2020-12-13T11:49:24.595168",
     "exception": false,
     "start_time": "2020-12-13T11:49:24.553580",
     "status": "completed"
    },
    "tags": []
   },
   "source": [
    "## Get the train and test dataset\n",
    "\n",
    "Although we can do a lot of more pre-processing on the data, such as discretization of continuous data, or outlier detection, we will stop here and generate the final train and test datasets by selecting appropiated columns"
   ]
  },
  {
   "cell_type": "code",
   "execution_count": 60,
   "metadata": {
    "execution": {
     "iopub.execute_input": "2020-12-13T11:49:24.701547Z",
     "iopub.status.busy": "2020-12-13T11:49:24.700705Z",
     "iopub.status.idle": "2020-12-13T11:49:24.704799Z",
     "shell.execute_reply": "2020-12-13T11:49:24.705361Z"
    },
    "papermill": {
     "duration": 0.06774,
     "end_time": "2020-12-13T11:49:24.705520",
     "exception": false,
     "start_time": "2020-12-13T11:49:24.637780",
     "status": "completed"
    },
    "scrolled": true,
    "tags": []
   },
   "outputs": [
    {
     "data": {
      "text/html": [
       "<div>\n",
       "<style scoped>\n",
       "    .dataframe tbody tr th:only-of-type {\n",
       "        vertical-align: middle;\n",
       "    }\n",
       "\n",
       "    .dataframe tbody tr th {\n",
       "        vertical-align: top;\n",
       "    }\n",
       "\n",
       "    .dataframe thead th {\n",
       "        text-align: right;\n",
       "    }\n",
       "</style>\n",
       "<table border=\"1\" class=\"dataframe\">\n",
       "  <thead>\n",
       "    <tr style=\"text-align: right;\">\n",
       "      <th></th>\n",
       "      <th>PassengerId</th>\n",
       "      <th>Survived</th>\n",
       "      <th>Pclass</th>\n",
       "      <th>Name</th>\n",
       "      <th>Sex</th>\n",
       "      <th>Age</th>\n",
       "      <th>SibSp</th>\n",
       "      <th>Parch</th>\n",
       "      <th>Ticket</th>\n",
       "      <th>Fare</th>\n",
       "      <th>...</th>\n",
       "      <th>Embarked_Q</th>\n",
       "      <th>Embarked_S</th>\n",
       "      <th>Age_range_1</th>\n",
       "      <th>Age_range_2</th>\n",
       "      <th>Age_range_3</th>\n",
       "      <th>Age_range_4</th>\n",
       "      <th>Ticket_encoded</th>\n",
       "      <th>Cabin_encoded</th>\n",
       "      <th>Age_scaled</th>\n",
       "      <th>Fare_scaled</th>\n",
       "    </tr>\n",
       "  </thead>\n",
       "  <tbody>\n",
       "    <tr>\n",
       "      <th>0</th>\n",
       "      <td>892</td>\n",
       "      <td>0</td>\n",
       "      <td>3</td>\n",
       "      <td>Kelly, Mr. James</td>\n",
       "      <td>male</td>\n",
       "      <td>34.5</td>\n",
       "      <td>0</td>\n",
       "      <td>0</td>\n",
       "      <td>330911</td>\n",
       "      <td>7.8292</td>\n",
       "      <td>...</td>\n",
       "      <td>1</td>\n",
       "      <td>0</td>\n",
       "      <td>0</td>\n",
       "      <td>0</td>\n",
       "      <td>1</td>\n",
       "      <td>0</td>\n",
       "      <td>152</td>\n",
       "      <td>76</td>\n",
       "      <td>1.330837</td>\n",
       "      <td>-0.259927</td>\n",
       "    </tr>\n",
       "    <tr>\n",
       "      <th>1</th>\n",
       "      <td>893</td>\n",
       "      <td>1</td>\n",
       "      <td>3</td>\n",
       "      <td>Wilkes, Mrs. James (Ellen Needs)</td>\n",
       "      <td>female</td>\n",
       "      <td>47.0</td>\n",
       "      <td>1</td>\n",
       "      <td>0</td>\n",
       "      <td>363272</td>\n",
       "      <td>7.0000</td>\n",
       "      <td>...</td>\n",
       "      <td>0</td>\n",
       "      <td>1</td>\n",
       "      <td>0</td>\n",
       "      <td>0</td>\n",
       "      <td>1</td>\n",
       "      <td>0</td>\n",
       "      <td>221</td>\n",
       "      <td>76</td>\n",
       "      <td>2.484683</td>\n",
       "      <td>-0.166787</td>\n",
       "    </tr>\n",
       "    <tr>\n",
       "      <th>2</th>\n",
       "      <td>894</td>\n",
       "      <td>0</td>\n",
       "      <td>2</td>\n",
       "      <td>Myles, Mr. Thomas Francis</td>\n",
       "      <td>male</td>\n",
       "      <td>62.0</td>\n",
       "      <td>0</td>\n",
       "      <td>0</td>\n",
       "      <td>240276</td>\n",
       "      <td>9.6875</td>\n",
       "      <td>...</td>\n",
       "      <td>1</td>\n",
       "      <td>0</td>\n",
       "      <td>0</td>\n",
       "      <td>0</td>\n",
       "      <td>0</td>\n",
       "      <td>1</td>\n",
       "      <td>73</td>\n",
       "      <td>76</td>\n",
       "      <td>-0.207624</td>\n",
       "      <td>-0.202310</td>\n",
       "    </tr>\n",
       "    <tr>\n",
       "      <th>3</th>\n",
       "      <td>895</td>\n",
       "      <td>0</td>\n",
       "      <td>3</td>\n",
       "      <td>Wirz, Mr. Albert</td>\n",
       "      <td>male</td>\n",
       "      <td>27.0</td>\n",
       "      <td>0</td>\n",
       "      <td>0</td>\n",
       "      <td>315154</td>\n",
       "      <td>8.6625</td>\n",
       "      <td>...</td>\n",
       "      <td>0</td>\n",
       "      <td>1</td>\n",
       "      <td>0</td>\n",
       "      <td>1</td>\n",
       "      <td>0</td>\n",
       "      <td>0</td>\n",
       "      <td>147</td>\n",
       "      <td>76</td>\n",
       "      <td>-0.592240</td>\n",
       "      <td>-0.076679</td>\n",
       "    </tr>\n",
       "    <tr>\n",
       "      <th>4</th>\n",
       "      <td>896</td>\n",
       "      <td>1</td>\n",
       "      <td>3</td>\n",
       "      <td>Hirvonen, Mrs. Alexander (Helga E Lindqvist)</td>\n",
       "      <td>female</td>\n",
       "      <td>22.0</td>\n",
       "      <td>1</td>\n",
       "      <td>1</td>\n",
       "      <td>3101298</td>\n",
       "      <td>12.2875</td>\n",
       "      <td>...</td>\n",
       "      <td>0</td>\n",
       "      <td>1</td>\n",
       "      <td>0</td>\n",
       "      <td>1</td>\n",
       "      <td>0</td>\n",
       "      <td>0</td>\n",
       "      <td>138</td>\n",
       "      <td>76</td>\n",
       "      <td>-1.207624</td>\n",
       "      <td>-0.182816</td>\n",
       "    </tr>\n",
       "  </tbody>\n",
       "</table>\n",
       "<p>5 rows × 29 columns</p>\n",
       "</div>"
      ],
      "text/plain": [
       "   PassengerId  Survived  Pclass  \\\n",
       "0          892         0       3   \n",
       "1          893         1       3   \n",
       "2          894         0       2   \n",
       "3          895         0       3   \n",
       "4          896         1       3   \n",
       "\n",
       "                                           Name     Sex   Age  SibSp  Parch  \\\n",
       "0                              Kelly, Mr. James    male  34.5      0      0   \n",
       "1              Wilkes, Mrs. James (Ellen Needs)  female  47.0      1      0   \n",
       "2                     Myles, Mr. Thomas Francis    male  62.0      0      0   \n",
       "3                              Wirz, Mr. Albert    male  27.0      0      0   \n",
       "4  Hirvonen, Mrs. Alexander (Helga E Lindqvist)  female  22.0      1      1   \n",
       "\n",
       "    Ticket     Fare  ... Embarked_Q Embarked_S Age_range_1  Age_range_2  \\\n",
       "0   330911   7.8292  ...          1          0           0            0   \n",
       "1   363272   7.0000  ...          0          1           0            0   \n",
       "2   240276   9.6875  ...          1          0           0            0   \n",
       "3   315154   8.6625  ...          0          1           0            1   \n",
       "4  3101298  12.2875  ...          0          1           0            1   \n",
       "\n",
       "   Age_range_3  Age_range_4  Ticket_encoded  Cabin_encoded  Age_scaled  \\\n",
       "0            1            0             152             76    1.330837   \n",
       "1            1            0             221             76    2.484683   \n",
       "2            0            1              73             76   -0.207624   \n",
       "3            0            0             147             76   -0.592240   \n",
       "4            0            0             138             76   -1.207624   \n",
       "\n",
       "   Fare_scaled  \n",
       "0    -0.259927  \n",
       "1    -0.166787  \n",
       "2    -0.202310  \n",
       "3    -0.076679  \n",
       "4    -0.182816  \n",
       "\n",
       "[5 rows x 29 columns]"
      ]
     },
     "execution_count": 60,
     "metadata": {},
     "output_type": "execute_result"
    }
   ],
   "source": [
    "test_data.head()"
   ]
  },
  {
   "cell_type": "code",
   "execution_count": 61,
   "metadata": {
    "scrolled": false
   },
   "outputs": [
    {
     "data": {
      "text/plain": [
       "<AxesSubplot:ylabel='Fare_scaled'>"
      ]
     },
     "execution_count": 61,
     "metadata": {},
     "output_type": "execute_result"
    },
    {
     "data": {
      "image/png": "[encoded data removed]",
      "text/plain": [
       "<Figure size 432x288 with 1 Axes>"
      ]
     },
     "metadata": {
      "needs_background": "light"
     },
     "output_type": "display_data"
    }
   ],
   "source": [
    "sns.boxplot(y=titanic_data['Fare_scaled'])"
   ]
  },
  {
   "cell_type": "code",
   "execution_count": 62,
   "metadata": {},
   "outputs": [
    {
     "data": {
      "text/plain": [
       "<AxesSubplot:ylabel='Age_scaled'>"
      ]
     },
     "execution_count": 62,
     "metadata": {},
     "output_type": "execute_result"
    },
    {
     "data": {
      "image/png": "[encoded data removed]",
      "text/plain": [
       "<Figure size 432x288 with 1 Axes>"
      ]
     },
     "metadata": {
      "needs_background": "light"
     },
     "output_type": "display_data"
    }
   ],
   "source": [
    "sns.boxplot(y=titanic_data['Age_scaled'])"
   ]
  },
  {
   "cell_type": "code",
   "execution_count": 63,
   "metadata": {},
   "outputs": [
    {
     "name": "stdout",
     "output_type": "stream",
     "text": [
      "-1.4287001545702187\n",
      "1.7721648841416502\n"
     ]
    }
   ],
   "source": [
    "IQR = titanic_data[\"Fare_scaled\"].quantile(0.75) - titanic_data[\"Fare_scaled\"].quantile(0.25)\n",
    "lower_fare_limit = titanic_data[\"Fare_scaled\"].quantile(0.25) - (IQR * 1.5) \n",
    "upper_fare_limit = titanic_data[\"Fare_scaled\"].quantile(0.75) + (IQR * 1.5)\n",
    "print(lower_fare_limit) \n",
    "print(upper_fare_limit) "
   ]
  },
  {
   "cell_type": "code",
   "execution_count": 64,
   "metadata": {},
   "outputs": [],
   "source": [
    "\n",
    "titanic_data[\"Fare_normalized\"]= np.where(titanic_data[\"Fare_scaled\"] > upper_fare_limit, upper_fare_limit,\n",
    "                               np.where(titanic_data[\"Fare_scaled\"] < lower_fare_limit, lower_fare_limit, titanic_data[\"Fare_scaled\"]))\n",
    "\n",
    "test_data[\"Fare_normalized\"]= np.where(test_data[\"Fare_scaled\"] > upper_fare_limit, upper_fare_limit,\n",
    "                               np.where(test_data[\"Fare_scaled\"] < lower_fare_limit, lower_fare_limit, test_data[\"Fare_scaled\"]))\n",
    "\n"
   ]
  },
  {
   "cell_type": "code",
   "execution_count": 65,
   "metadata": {},
   "outputs": [
    {
     "data": {
      "text/plain": [
       "<AxesSubplot:ylabel='Fare_normalized'>"
      ]
     },
     "execution_count": 65,
     "metadata": {},
     "output_type": "execute_result"
    },
    {
     "data": {
      "image/png": "[encoded data removed]",
      "text/plain": [
       "<Figure size 432x288 with 1 Axes>"
      ]
     },
     "metadata": {
      "needs_background": "light"
     },
     "output_type": "display_data"
    }
   ],
   "source": [
    "sns.boxplot(y=titanic_data['Fare_normalized'])"
   ]
  },
  {
   "cell_type": "code",
   "execution_count": 66,
   "metadata": {},
   "outputs": [
    {
     "name": "stdout",
     "output_type": "stream",
     "text": [
      "-2.092239819004525\n",
      "1.9077601809954754\n"
     ]
    }
   ],
   "source": [
    "IQR = titanic_data[\"Age_scaled\"].quantile(0.75) - titanic_data[\"Age_scaled\"].quantile(0.25)\n",
    "lower_fare_limit = titanic_data[\"Age_scaled\"].quantile(0.25) - (IQR * 1.5) \n",
    "upper_fare_limit = titanic_data[\"Age_scaled\"].quantile(0.75) + (IQR * 1.5)\n",
    "print(lower_fare_limit) \n",
    "print(upper_fare_limit) "
   ]
  },
  {
   "cell_type": "code",
   "execution_count": 67,
   "metadata": {},
   "outputs": [],
   "source": [
    "\n",
    "titanic_data[\"Age_normalized\"]= np.where(titanic_data[\"Age_scaled\"] > upper_fare_limit, upper_fare_limit,\n",
    "                               np.where(titanic_data[\"Age_scaled\"] < lower_fare_limit, lower_fare_limit, titanic_data[\"Age_scaled\"]))\n",
    "\n",
    "test_data[\"Age_normalized\"]= np.where(test_data[\"Age_scaled\"] > upper_fare_limit, upper_fare_limit,\n",
    "                               np.where(test_data[\"Age_scaled\"] < lower_fare_limit, lower_fare_limit, test_data[\"Age_scaled\"]))\n",
    "\n",
    "\n"
   ]
  },
  {
   "cell_type": "code",
   "execution_count": 68,
   "metadata": {},
   "outputs": [
    {
     "data": {
      "text/plain": [
       "<AxesSubplot:ylabel='Age_normalized'>"
      ]
     },
     "execution_count": 68,
     "metadata": {},
     "output_type": "execute_result"
    },
    {
     "data": {
      "image/png": "[encoded data removed]",
      "text/plain": [
       "<Figure size 432x288 with 1 Axes>"
      ]
     },
     "metadata": {
      "needs_background": "light"
     },
     "output_type": "display_data"
    }
   ],
   "source": [
    "sns.boxplot(y=titanic_data['Age_normalized'])"
   ]
  },
  {
   "cell_type": "code",
   "execution_count": 69,
   "metadata": {},
   "outputs": [
    {
     "data": {
      "text/plain": [
       "Index(['PassengerId', 'Survived', 'Pclass', 'Name', 'Sex', 'Age', 'SibSp',\n",
       "       'Parch', 'Ticket', 'Fare', 'Cabin', 'Embarked', 'Age_range',\n",
       "       'Sex_female', 'Sex_male', 'Pclass_1', 'Pclass_2', 'Pclass_3',\n",
       "       'Embarked_C', 'Embarked_Q', 'Embarked_S', 'Age_range_1', 'Age_range_2',\n",
       "       'Age_range_3', 'Age_range_4', 'Ticket_encoded', 'Cabin_encoded',\n",
       "       'Age_scaled', 'Fare_scaled', 'Fare_normalized', 'Age_normalized'],\n",
       "      dtype='object')"
      ]
     },
     "execution_count": 69,
     "metadata": {},
     "output_type": "execute_result"
    }
   ],
   "source": [
    "titanic_data.columns"
   ]
  },
  {
   "cell_type": "code",
   "execution_count": 70,
   "metadata": {
    "execution": {
     "iopub.execute_input": "2020-12-13T11:49:24.801608Z",
     "iopub.status.busy": "2020-12-13T11:49:24.800690Z",
     "iopub.status.idle": "2020-12-13T11:49:24.803651Z",
     "shell.execute_reply": "2020-12-13T11:49:24.802934Z"
    },
    "papermill": {
     "duration": 0.055247,
     "end_time": "2020-12-13T11:49:24.803785",
     "exception": false,
     "start_time": "2020-12-13T11:49:24.748538",
     "status": "completed"
    },
    "tags": []
   },
   "outputs": [],
   "source": [
    "#selected_x_columns = ['PassengerId', 'Survived', 'Pclass', 'Name', 'Sex', 'Age', 'SibSp',\n",
    "#       'Parch', 'Ticket', 'Fare', 'Cabin', 'Embarked', 'Age_range',\n",
    "#       'Sex_female', 'Sex_male', 'Pclass_1', 'Pclass_2', 'Pclass_3',\n",
    "#       'Embarked_C', 'Embarked_Q', 'Embarked_S', 'Age_range_1', 'Age_range_2',\n",
    "#       'Age_range_3', 'Age_range_4', 'Ticket_encoded', 'Cabin_encoded',\n",
    "#       'Age_scaled', 'Fare_scaled', 'Fare_normalized', 'Age_normalized']\n",
    "\n",
    "selected_x_columns = ['Sex_female', 'Sex_male', 'Pclass_1', 'Pclass_2', 'Pclass_3', 'Age_range_1', 'Age_range_2', 'Age_range_3', 'Age_range_4' ]\n",
    "train_x = titanic_data[selected_x_columns]\n",
    "test_x =  test_data[selected_x_columns]\n",
    "\n",
    "train_y = titanic_data['Survived']\n",
    "test_y = test_data['Survived']\n"
   ]
  },
  {
   "cell_type": "code",
   "execution_count": 71,
   "metadata": {},
   "outputs": [
    {
     "data": {
      "text/html": [
       "<div>\n",
       "<style scoped>\n",
       "    .dataframe tbody tr th:only-of-type {\n",
       "        vertical-align: middle;\n",
       "    }\n",
       "\n",
       "    .dataframe tbody tr th {\n",
       "        vertical-align: top;\n",
       "    }\n",
       "\n",
       "    .dataframe thead th {\n",
       "        text-align: right;\n",
       "    }\n",
       "</style>\n",
       "<table border=\"1\" class=\"dataframe\">\n",
       "  <thead>\n",
       "    <tr style=\"text-align: right;\">\n",
       "      <th></th>\n",
       "      <th>Sex_female</th>\n",
       "      <th>Sex_male</th>\n",
       "      <th>Pclass_1</th>\n",
       "      <th>Pclass_2</th>\n",
       "      <th>Pclass_3</th>\n",
       "      <th>Age_range_1</th>\n",
       "      <th>Age_range_2</th>\n",
       "      <th>Age_range_3</th>\n",
       "      <th>Age_range_4</th>\n",
       "    </tr>\n",
       "  </thead>\n",
       "  <tbody>\n",
       "    <tr>\n",
       "      <th>0</th>\n",
       "      <td>0</td>\n",
       "      <td>1</td>\n",
       "      <td>0</td>\n",
       "      <td>0</td>\n",
       "      <td>1</td>\n",
       "      <td>0</td>\n",
       "      <td>1</td>\n",
       "      <td>0</td>\n",
       "      <td>0</td>\n",
       "    </tr>\n",
       "    <tr>\n",
       "      <th>1</th>\n",
       "      <td>1</td>\n",
       "      <td>0</td>\n",
       "      <td>1</td>\n",
       "      <td>0</td>\n",
       "      <td>0</td>\n",
       "      <td>0</td>\n",
       "      <td>0</td>\n",
       "      <td>1</td>\n",
       "      <td>0</td>\n",
       "    </tr>\n",
       "    <tr>\n",
       "      <th>2</th>\n",
       "      <td>1</td>\n",
       "      <td>0</td>\n",
       "      <td>0</td>\n",
       "      <td>0</td>\n",
       "      <td>1</td>\n",
       "      <td>0</td>\n",
       "      <td>1</td>\n",
       "      <td>0</td>\n",
       "      <td>0</td>\n",
       "    </tr>\n",
       "    <tr>\n",
       "      <th>3</th>\n",
       "      <td>1</td>\n",
       "      <td>0</td>\n",
       "      <td>1</td>\n",
       "      <td>0</td>\n",
       "      <td>0</td>\n",
       "      <td>0</td>\n",
       "      <td>0</td>\n",
       "      <td>1</td>\n",
       "      <td>0</td>\n",
       "    </tr>\n",
       "    <tr>\n",
       "      <th>4</th>\n",
       "      <td>0</td>\n",
       "      <td>1</td>\n",
       "      <td>0</td>\n",
       "      <td>0</td>\n",
       "      <td>1</td>\n",
       "      <td>0</td>\n",
       "      <td>0</td>\n",
       "      <td>1</td>\n",
       "      <td>0</td>\n",
       "    </tr>\n",
       "  </tbody>\n",
       "</table>\n",
       "</div>"
      ],
      "text/plain": [
       "   Sex_female  Sex_male  Pclass_1  Pclass_2  Pclass_3  Age_range_1  \\\n",
       "0           0         1         0         0         1            0   \n",
       "1           1         0         1         0         0            0   \n",
       "2           1         0         0         0         1            0   \n",
       "3           1         0         1         0         0            0   \n",
       "4           0         1         0         0         1            0   \n",
       "\n",
       "   Age_range_2  Age_range_3  Age_range_4  \n",
       "0            1            0            0  \n",
       "1            0            1            0  \n",
       "2            1            0            0  \n",
       "3            0            1            0  \n",
       "4            0            1            0  "
      ]
     },
     "execution_count": 71,
     "metadata": {},
     "output_type": "execute_result"
    }
   ],
   "source": [
    "train_x.head()"
   ]
  },
  {
   "cell_type": "code",
   "execution_count": 72,
   "metadata": {
    "execution": {
     "iopub.execute_input": "2020-12-13T11:49:24.895924Z",
     "iopub.status.busy": "2020-12-13T11:49:24.894974Z",
     "iopub.status.idle": "2020-12-13T11:49:24.898813Z",
     "shell.execute_reply": "2020-12-13T11:49:24.899396Z"
    },
    "papermill": {
     "duration": 0.052523,
     "end_time": "2020-12-13T11:49:24.899549",
     "exception": false,
     "start_time": "2020-12-13T11:49:24.847026",
     "status": "completed"
    },
    "tags": []
   },
   "outputs": [
    {
     "name": "stdout",
     "output_type": "stream",
     "text": [
      "(891, 9) (418, 9)\n"
     ]
    }
   ],
   "source": [
    "print(train_x.shape, test_x.shape)"
   ]
  },
  {
   "cell_type": "markdown",
   "metadata": {
    "papermill": {
     "duration": 0.043283,
     "end_time": "2020-12-13T11:49:24.986397",
     "exception": false,
     "start_time": "2020-12-13T11:49:24.943114",
     "status": "completed"
    },
    "tags": []
   },
   "source": [
    "Let's generate a simple Keras model with a standard NN using the following layers \n",
    "Input Layer = 14\n",
    "Hidden Layers = 30, 60, 30, 16\n",
    "Output Layer = 1\n",
    "\n",
    "We will use RELU activation for hidden layers and SIGMOID for output layer\n",
    "\n",
    "We do not include neither dropout nor other reguralization techniques "
   ]
  },
  {
   "cell_type": "code",
   "execution_count": 73,
   "metadata": {
    "execution": {
     "iopub.execute_input": "2020-12-13T11:49:25.084138Z",
     "iopub.status.busy": "2020-12-13T11:49:25.083436Z",
     "iopub.status.idle": "2020-12-13T11:50:30.009293Z",
     "shell.execute_reply": "2020-12-13T11:50:30.008617Z"
    },
    "papermill": {
     "duration": 64.979337,
     "end_time": "2020-12-13T11:50:30.009423",
     "exception": false,
     "start_time": "2020-12-13T11:49:25.030086",
     "status": "completed"
    },
    "scrolled": false,
    "tags": []
   },
   "outputs": [
    {
     "name": "stdout",
     "output_type": "stream",
     "text": [
      "14/14 [==============================] - 0s 3ms/step - loss: 0.4968 - accuracy: 0.7799\n"
     ]
    },
    {
     "data": {
      "text/plain": [
       "[0.4967837929725647, 0.779904305934906]"
      ]
     },
     "execution_count": 73,
     "metadata": {},
     "output_type": "execute_result"
    }
   ],
   "source": [
    "from keras.models import Sequential\n",
    "from keras.layers import Dense, Dropout, BatchNormalization\n",
    "\n",
    "\n",
    "model = Sequential()\n",
    "\n",
    "model.add(Dense(20, input_dim=train_x.shape[1], activation='relu'))\n",
    "model.add(BatchNormalization())\n",
    "model.add(Dropout(0.2))\n",
    "\n",
    "model.add(Dense(40, activation='relu'))\n",
    "model.add(BatchNormalization())\n",
    "model.add(Dropout(0.1))\n",
    "\n",
    "model.add(Dense(20, activation='relu'))\n",
    "model.add(BatchNormalization())\n",
    "model.add(Dropout(0.1))\n",
    "\n",
    "model.add(Dense(10, activation='relu'))\n",
    "model.add(BatchNormalization())\n",
    "model.add(Dropout(0.1))\n",
    "\n",
    "\n",
    "model.add(Dense(1, activation='sigmoid'))\n",
    "\n",
    "\n",
    "model.compile(loss='binary_crossentropy', optimizer='adam', metrics=['accuracy'])\n",
    "...\n",
    "# fit the keras model on the dataset\n",
    "model.fit(train_x, train_y, validation_split=0.10, epochs=500, batch_size=300, verbose = 0)\n",
    "\n",
    "model.evaluate(test_x,test_y)\n"
   ]
  },
  {
   "cell_type": "code",
   "execution_count": 74,
   "metadata": {
    "execution": {
     "iopub.execute_input": "2020-12-13T11:50:32.556818Z",
     "iopub.status.busy": "2020-12-13T11:50:32.555629Z",
     "iopub.status.idle": "2020-12-13T11:50:32.765002Z",
     "shell.execute_reply": "2020-12-13T11:50:32.764190Z"
    },
    "papermill": {
     "duration": 1.50966,
     "end_time": "2020-12-13T11:50:32.765130",
     "exception": false,
     "start_time": "2020-12-13T11:50:31.255470",
     "status": "completed"
    },
    "tags": []
   },
   "outputs": [],
   "source": [
    "\n",
    "test_y_calculated = (model.predict(test_x) > 0.5).astype(\"int32\")\n"
   ]
  },
  {
   "cell_type": "code",
   "execution_count": 75,
   "metadata": {
    "execution": {
     "iopub.execute_input": "2020-12-13T11:50:35.268391Z",
     "iopub.status.busy": "2020-12-13T11:50:35.267425Z",
     "iopub.status.idle": "2020-12-13T11:50:35.272050Z",
     "shell.execute_reply": "2020-12-13T11:50:35.271346Z"
    },
    "papermill": {
     "duration": 1.256304,
     "end_time": "2020-12-13T11:50:35.272167",
     "exception": false,
     "start_time": "2020-12-13T11:50:34.015863",
     "status": "completed"
    },
    "tags": []
   },
   "outputs": [
    {
     "data": {
      "text/plain": [
       "36"
      ]
     },
     "execution_count": 75,
     "metadata": {},
     "output_type": "execute_result"
    }
   ],
   "source": [
    "test_y.sum() - test_y_calculated.sum()"
   ]
  },
  {
   "cell_type": "code",
   "execution_count": 76,
   "metadata": {
    "execution": {
     "iopub.execute_input": "2020-12-13T11:50:37.818955Z",
     "iopub.status.busy": "2020-12-13T11:50:37.817911Z",
     "iopub.status.idle": "2020-12-13T11:50:37.823285Z",
     "shell.execute_reply": "2020-12-13T11:50:37.823828Z"
    },
    "papermill": {
     "duration": 1.267926,
     "end_time": "2020-12-13T11:50:37.823978",
     "exception": false,
     "start_time": "2020-12-13T11:50:36.556052",
     "status": "completed"
    },
    "tags": []
   },
   "outputs": [],
   "source": [
    "result = test_data.drop(columns='Survived').join(pd.DataFrame(test_y_calculated, columns=['Survived']))\n",
    "result = result[['PassengerId', 'Survived']]"
   ]
  },
  {
   "cell_type": "code",
   "execution_count": 77,
   "metadata": {
    "execution": {
     "iopub.execute_input": "2020-12-13T11:50:40.411461Z",
     "iopub.status.busy": "2020-12-13T11:50:40.410320Z",
     "iopub.status.idle": "2020-12-13T11:50:40.414882Z",
     "shell.execute_reply": "2020-12-13T11:50:40.415459Z"
    },
    "papermill": {
     "duration": 1.294097,
     "end_time": "2020-12-13T11:50:40.415615",
     "exception": false,
     "start_time": "2020-12-13T11:50:39.121518",
     "status": "completed"
    },
    "tags": []
   },
   "outputs": [
    {
     "data": {
      "text/html": [
       "<div>\n",
       "<style scoped>\n",
       "    .dataframe tbody tr th:only-of-type {\n",
       "        vertical-align: middle;\n",
       "    }\n",
       "\n",
       "    .dataframe tbody tr th {\n",
       "        vertical-align: top;\n",
       "    }\n",
       "\n",
       "    .dataframe thead th {\n",
       "        text-align: right;\n",
       "    }\n",
       "</style>\n",
       "<table border=\"1\" class=\"dataframe\">\n",
       "  <thead>\n",
       "    <tr style=\"text-align: right;\">\n",
       "      <th></th>\n",
       "      <th>PassengerId</th>\n",
       "      <th>Survived</th>\n",
       "    </tr>\n",
       "  </thead>\n",
       "  <tbody>\n",
       "    <tr>\n",
       "      <th>0</th>\n",
       "      <td>892</td>\n",
       "      <td>0</td>\n",
       "    </tr>\n",
       "    <tr>\n",
       "      <th>1</th>\n",
       "      <td>893</td>\n",
       "      <td>0</td>\n",
       "    </tr>\n",
       "    <tr>\n",
       "      <th>2</th>\n",
       "      <td>894</td>\n",
       "      <td>0</td>\n",
       "    </tr>\n",
       "    <tr>\n",
       "      <th>3</th>\n",
       "      <td>895</td>\n",
       "      <td>0</td>\n",
       "    </tr>\n",
       "    <tr>\n",
       "      <th>4</th>\n",
       "      <td>896</td>\n",
       "      <td>1</td>\n",
       "    </tr>\n",
       "    <tr>\n",
       "      <th>...</th>\n",
       "      <td>...</td>\n",
       "      <td>...</td>\n",
       "    </tr>\n",
       "    <tr>\n",
       "      <th>413</th>\n",
       "      <td>1305</td>\n",
       "      <td>0</td>\n",
       "    </tr>\n",
       "    <tr>\n",
       "      <th>414</th>\n",
       "      <td>1306</td>\n",
       "      <td>1</td>\n",
       "    </tr>\n",
       "    <tr>\n",
       "      <th>415</th>\n",
       "      <td>1307</td>\n",
       "      <td>0</td>\n",
       "    </tr>\n",
       "    <tr>\n",
       "      <th>416</th>\n",
       "      <td>1308</td>\n",
       "      <td>0</td>\n",
       "    </tr>\n",
       "    <tr>\n",
       "      <th>417</th>\n",
       "      <td>1309</td>\n",
       "      <td>0</td>\n",
       "    </tr>\n",
       "  </tbody>\n",
       "</table>\n",
       "<p>418 rows × 2 columns</p>\n",
       "</div>"
      ],
      "text/plain": [
       "     PassengerId  Survived\n",
       "0            892         0\n",
       "1            893         0\n",
       "2            894         0\n",
       "3            895         0\n",
       "4            896         1\n",
       "..           ...       ...\n",
       "413         1305         0\n",
       "414         1306         1\n",
       "415         1307         0\n",
       "416         1308         0\n",
       "417         1309         0\n",
       "\n",
       "[418 rows x 2 columns]"
      ]
     },
     "execution_count": 77,
     "metadata": {},
     "output_type": "execute_result"
    }
   ],
   "source": [
    "result"
   ]
  },
  {
   "cell_type": "markdown",
   "metadata": {
    "papermill": {
     "duration": 1.315287,
     "end_time": "2020-12-13T11:50:43.003798",
     "exception": false,
     "start_time": "2020-12-13T11:50:41.688511",
     "status": "completed"
    },
    "tags": []
   },
   "source": [
    "We got it. Let's submit our results"
   ]
  },
  {
   "cell_type": "code",
   "execution_count": 78,
   "metadata": {
    "execution": {
     "iopub.execute_input": "2020-12-13T11:50:45.548996Z",
     "iopub.status.busy": "2020-12-13T11:50:45.548172Z",
     "iopub.status.idle": "2020-12-13T11:50:45.609023Z",
     "shell.execute_reply": "2020-12-13T11:50:45.608380Z"
    },
    "papermill": {
     "duration": 1.329235,
     "end_time": "2020-12-13T11:50:45.609138",
     "exception": false,
     "start_time": "2020-12-13T11:50:44.279903",
     "status": "completed"
    },
    "tags": []
   },
   "outputs": [],
   "source": [
    "result.to_csv('submission.csv', index=False)"
   ]
  },
  {
   "cell_type": "code",
   "execution_count": null,
   "metadata": {
    "papermill": {
     "duration": 1.251293,
     "end_time": "2020-12-13T11:50:48.143219",
     "exception": false,
     "start_time": "2020-12-13T11:50:46.891926",
     "status": "completed"
    },
    "tags": []
   },
   "outputs": [],
   "source": []
  }
 ],
 "metadata": {
  "kernelspec": {
   "display_name": "Python 3",
   "language": "python",
   "name": "python3"
  },
  "language_info": {
   "codemirror_mode": {
    "name": "ipython",
    "version": 3
   },
   "file_extension": ".py",
   "mimetype": "text/x-python",
   "name": "python",
   "nbconvert_exporter": "python",
   "pygments_lexer": "ipython3",
   "version": "3.8.3"
  },
  "papermill": {
   "duration": 99.741345,
   "end_time": "2020-12-13T11:50:49.499458",
   "environment_variables": {},
   "exception": null,
   "input_path": "__notebook__.ipynb",
   "output_path": "__notebook__.ipynb",
   "parameters": {},
   "start_time": "2020-12-13T11:49:09.758113",
   "version": "2.1.0"
  }
 },
 "nbformat": 4,
 "nbformat_minor": 4
}
